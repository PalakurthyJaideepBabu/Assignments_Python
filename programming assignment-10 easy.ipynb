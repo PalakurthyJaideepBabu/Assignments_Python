{
 "cells": [
  {
   "cell_type": "markdown",
   "metadata": {},
   "source": [
    "1.\tWrite a Python program to find sum of elements in list?"
   ]
  },
  {
   "cell_type": "code",
   "execution_count": 27,
   "metadata": {},
   "outputs": [
    {
     "name": "stdout",
     "output_type": "stream",
     "text": [
      "Enter number of columns: 8\n",
      "Enter elements in first matrix: \n",
      "1\n",
      "2\n",
      "3\n",
      "4\n",
      "5\n",
      "6\n",
      "7\n",
      "8\n",
      "List is: \n",
      "[1, 2, 3, 4, 5, 6, 7, 8]\n",
      "The sum of list is 36\n"
     ]
    }
   ],
   "source": [
    "cols=int(input(\"Enter number of columns: \"))\n",
    "print(\"Enter elements in first matrix: \")\n",
    "list_a=[int(input()) for i in range(cols)]\n",
    "print(\"List is: \")\n",
    "print(list_a)\n",
    "sum_l=sum(list_a)\n",
    "print(\"The sum of list is \"+str(sum_l))"
   ]
  },
  {
   "cell_type": "markdown",
   "metadata": {},
   "source": [
    "2.\tWrite a Python program to  Multiply all numbers in the list?"
   ]
  },
  {
   "cell_type": "code",
   "execution_count": 31,
   "metadata": {},
   "outputs": [
    {
     "name": "stdout",
     "output_type": "stream",
     "text": [
      "Enter number of columns: 5\n",
      "Enter elements in first matrix: \n",
      "1\n",
      "2\n",
      "3\n",
      "4\n",
      "5\n",
      "List is: \n",
      "[1, 2, 3, 4, 5]\n",
      "The product of list is 120\n"
     ]
    }
   ],
   "source": [
    "col=int(input(\"Enter number of columns: \"))\n",
    "print(\"Enter elements in first matrix: \")\n",
    "list_b=[int(input()) for i in range(col)]\n",
    "print(\"List is: \")\n",
    "print(list_b)\n",
    "mul=1\n",
    "for i in list_b:\n",
    "    mul*=i\n",
    "print(\"The product of list is \"+str(mul))"
   ]
  },
  {
   "cell_type": "markdown",
   "metadata": {},
   "source": [
    "3.\tWrite a Python program to find smallest number in a list?"
   ]
  },
  {
   "cell_type": "code",
   "execution_count": 1,
   "metadata": {},
   "outputs": [
    {
     "name": "stdout",
     "output_type": "stream",
     "text": [
      "Enter number of columns: 4\n",
      "Enter elements in first matrix: \n",
      "1\n",
      "2\n",
      "3\n",
      "4\n",
      "List is: \n",
      "[1, 2, 3, 4]\n",
      "The minimum element in list is 1\n"
     ]
    }
   ],
   "source": [
    "col_1=int(input(\"Enter number of columns: \"))\n",
    "print(\"Enter elements in first matrix: \")\n",
    "list_c=[int(input()) for i in range(col_1)]\n",
    "print(\"List is: \")\n",
    "print(list_c)\n",
    "min1=min(list_c)\n",
    "print(\"The minimum element in list is \"+str(min1))"
   ]
  },
  {
   "cell_type": "markdown",
   "metadata": {},
   "source": [
    "4.\tWrite a Python program to find largest number in a list?"
   ]
  },
  {
   "cell_type": "code",
   "execution_count": 2,
   "metadata": {},
   "outputs": [
    {
     "name": "stdout",
     "output_type": "stream",
     "text": [
      "Enter number of columns: 4\n",
      "Enter elements in first matrix: \n",
      "1\n",
      "2\n",
      "3\n",
      "4\n",
      "List is: \n",
      "[1, 2, 3, 4]\n",
      "The maximum element in list is 4\n"
     ]
    }
   ],
   "source": [
    "col_2=int(input(\"Enter number of columns: \"))\n",
    "print(\"Enter elements in first matrix: \")\n",
    "list_d=[int(input()) for i in range(col_2)]\n",
    "print(\"List is: \")\n",
    "print(list_d)\n",
    "max1=max(list_d)\n",
    "print(\"The maximum element in list is \"+str(max1))"
   ]
  },
  {
   "cell_type": "markdown",
   "metadata": {},
   "source": [
    "5.\tWrite a Python program to find second largest number in a list?"
   ]
  },
  {
   "cell_type": "code",
   "execution_count": 4,
   "metadata": {},
   "outputs": [
    {
     "name": "stdout",
     "output_type": "stream",
     "text": [
      "Enter number of columns: 4\n",
      "Enter elements in first matrix: \n",
      "1\n",
      "2\n",
      "3\n",
      "4\n",
      "List is: \n",
      "[1, 2, 3, 4]\n",
      "The second largest element in list is 3\n"
     ]
    }
   ],
   "source": [
    "col_3=int(input(\"Enter number of columns: \"))\n",
    "print(\"Enter elements in first matrix: \")\n",
    "list_e=[int(input()) for i in range(col_3)]\n",
    "print(\"List is: \")\n",
    "print(list_e)\n",
    "max1=max(list_e)\n",
    "list_e.remove(max1)\n",
    "max2=max(list_e)\n",
    "print(\"The second largest element in list is \"+str(max2))"
   ]
  },
  {
   "cell_type": "markdown",
   "metadata": {},
   "source": [
    "6.\tWrite a Python program to find N largest elements from a list?"
   ]
  },
  {
   "cell_type": "code",
   "execution_count": 1,
   "metadata": {},
   "outputs": [
    {
     "name": "stdout",
     "output_type": "stream",
     "text": [
      "Enter the value of n to find n largest numbers 4\n",
      "Enter number of columns: 8\n",
      "Enter elements in first matrix: \n",
      "23\n",
      "45\n",
      "67\n",
      "89\n",
      "567\n",
      "678\n",
      "678\n",
      "654\n",
      "List is: \n",
      "[23, 45, 67, 89, 567, 678, 678, 654]\n",
      "N largest elements in list are \n",
      "[678, 678, 654, 567]\n"
     ]
    }
   ],
   "source": [
    "n=int(input(\"Enter the value of n to find n largest numbers \"))\n",
    "col_4=int(input(\"Enter number of columns: \"))\n",
    "print(\"Enter elements in first matrix: \")\n",
    "list_f=[int(input()) for i in range(col_4)]\n",
    "print(\"List is: \")\n",
    "print(list_f)\n",
    "list_f.sort(reverse=True)\n",
    "print(\"N largest elements in list are \")\n",
    "print(list_f[:n])"
   ]
  },
  {
   "cell_type": "markdown",
   "metadata": {},
   "source": [
    "7.\tWrite a Python program to print even numbers in a list?"
   ]
  },
  {
   "cell_type": "code",
   "execution_count": 4,
   "metadata": {},
   "outputs": [
    {
     "name": "stdout",
     "output_type": "stream",
     "text": [
      "Enter number of columns: 9\n",
      "Enter elements in first matrix: \n",
      "1\n",
      "2\n",
      "3\n",
      "4\n",
      "5\n",
      "6\n",
      "78\n",
      "90\n",
      "54\n",
      "List is: \n",
      "[1, 2, 3, 4, 5, 6, 78, 90, 54]\n",
      "Even numbers list is \n",
      "[2, 4, 6, 78, 90, 54]\n"
     ]
    }
   ],
   "source": [
    "col_5=int(input(\"Enter number of columns: \"))\n",
    "print(\"Enter elements in first matrix: \")\n",
    "list_g=[int(input()) for i in range(col_5)]\n",
    "print(\"List is: \")\n",
    "print(list_g)\n",
    "l_even=[]\n",
    "for i in list_g:\n",
    "    if(i%2==0):\n",
    "        l_even.append(i)\n",
    "print(\"Even numbers list is \")\n",
    "print(l_even)"
   ]
  },
  {
   "cell_type": "markdown",
   "metadata": {},
   "source": [
    "8.\tWrite a Python program to print odd numbers in a List?"
   ]
  },
  {
   "cell_type": "code",
   "execution_count": 5,
   "metadata": {},
   "outputs": [
    {
     "name": "stdout",
     "output_type": "stream",
     "text": [
      "Enter number of columns: 5\n",
      "Enter elements in first matrix: \n",
      "3\n",
      "5\n",
      "6\n",
      "7\n",
      "9\n",
      "List is: \n",
      "[3, 5, 6, 7, 9]\n",
      "Odd numbers list is \n",
      "[3, 5, 7, 9]\n"
     ]
    }
   ],
   "source": [
    "col_6=int(input(\"Enter number of columns: \"))\n",
    "print(\"Enter elements in first matrix: \")\n",
    "list_h=[int(input()) for i in range(col_6)]\n",
    "print(\"List is: \")\n",
    "print(list_h)\n",
    "l_odd=[]\n",
    "for i in list_h:\n",
    "    if(i%2!=0):\n",
    "        l_odd.append(i)\n",
    "print(\"Odd numbers list is \")\n",
    "print(l_odd)"
   ]
  },
  {
   "cell_type": "markdown",
   "metadata": {},
   "source": [
    "9.\tWrite a Python program to Remove empty List from List?"
   ]
  },
  {
   "cell_type": "code",
   "execution_count": 12,
   "metadata": {},
   "outputs": [
    {
     "name": "stdout",
     "output_type": "stream",
     "text": [
      "Enter number of columns: 7\n",
      "Enter elements in first matrix: \n",
      "1\n",
      "[]\n",
      "kgk\n",
      "90\n",
      "[]\n",
      "io\n",
      "[]\n",
      "List is: \n",
      "['1', '[]', 'kgk', '90', '[]', 'io', '[]']\n",
      "['1', [], 'kgk', '90', [], 'io', []]\n",
      "After removing empty lists \n",
      "['1', 'kgk', '90', 'io']\n"
     ]
    }
   ],
   "source": [
    "col_7=int(input(\"Enter number of columns: \"))\n",
    "print(\"Enter elements in first matrix: \")\n",
    "list_i=[(input()) for i in range(col_7)]\n",
    "print(\"List is: \")\n",
    "print(list_i)\n",
    "for i in list_i:\n",
    "    if(i=='[]'):\n",
    "        ind=list_i.index(i)\n",
    "        list_i.pop(ind)\n",
    "        list_i.insert(ind,[])\n",
    "print(list_i)\n",
    "for i in list_i:\n",
    "    if(i==[]):\n",
    "        list_i.remove([])\n",
    "print(\"After removing empty lists \")\n",
    "print(list_i)"
   ]
  },
  {
   "cell_type": "markdown",
   "metadata": {},
   "source": [
    "10.\tWrite a Python program to Cloning or Copying a list?"
   ]
  },
  {
   "cell_type": "code",
   "execution_count": 21,
   "metadata": {},
   "outputs": [
    {
     "name": "stdout",
     "output_type": "stream",
     "text": [
      "Enter number of columns: 5\n",
      "Enter elements in first matrix: \n",
      "1\n",
      "2\n",
      "3\n",
      "4\n",
      "5\n",
      "List is: \n",
      "Initial list\n",
      "[1, 2, 3, 4, 5]\n",
      "After chaning initail list\n",
      "[678, 2, 3, 4, 5]\n",
      "Assigned list\n",
      "[678, 2, 3, 4, 5]\n",
      "Cloned list\n",
      "[1, 2, 3, 4, 5]\n"
     ]
    }
   ],
   "source": [
    "col_8=int(input(\"Enter number of columns: \"))\n",
    "print(\"Enter elements in first matrix: \")\n",
    "list_j=[int(input()) for i in range(col_8)]\n",
    "print(\"List is: \")\n",
    "print(\"Initial list\")\n",
    "print(list_j)\n",
    "l5=list_j\n",
    "l_clone=list_j[:]\n",
    "list_j[0]=678\n",
    "print(\"After chaning initail list\")\n",
    "print(list_j)\n",
    "print(\"Assigned list\")\n",
    "print(l5)\n",
    "print(\"Cloned list\")\n",
    "print(l_clone)"
   ]
  },
  {
   "cell_type": "markdown",
   "metadata": {},
   "source": [
    "11.\tWrite a Python program to Count occurrences of an element in a list?"
   ]
  },
  {
   "cell_type": "code",
   "execution_count": 25,
   "metadata": {},
   "outputs": [
    {
     "name": "stdout",
     "output_type": "stream",
     "text": [
      "Enter number of columns: 5\n",
      "Enter elements in first matrix: \n",
      "1\n",
      "2\n",
      "3\n",
      "2\n",
      "3\n",
      "List is: \n",
      "['1', '2', '3', '2', '3']\n",
      "Enter an element from list to find its count2\n",
      "Count of element in list is 2\n",
      "Count of all elements in list is \n",
      "[1, 2, 2, 2, 2]\n"
     ]
    }
   ],
   "source": [
    "col_9=int(input(\"Enter number of columns: \"))\n",
    "print(\"Enter elements in first matrix: \")\n",
    "list_k=[(input()) for i in range(col_9)]\n",
    "print(\"List is: \")\n",
    "print(list_k)\n",
    "coun=input(\"Enter an element from list to find its count\")\n",
    "num=list_k.count(coun)\n",
    "print(\"Count of entered element in list is \"+str(num))\n",
    "l7=[list_k.count(i) for i in list_k]\n",
    "print(\"Count of all elements in list is \")\n",
    "print(l7)"
   ]
  },
  {
   "cell_type": "code",
   "execution_count": null,
   "metadata": {},
   "outputs": [],
   "source": []
  }
 ],
 "metadata": {
  "kernelspec": {
   "display_name": "Python 3",
   "language": "python",
   "name": "python3"
  },
  "language_info": {
   "codemirror_mode": {
    "name": "ipython",
    "version": 3
   },
   "file_extension": ".py",
   "mimetype": "text/x-python",
   "name": "python",
   "nbconvert_exporter": "python",
   "pygments_lexer": "ipython3",
   "version": "3.7.1"
  }
 },
 "nbformat": 4,
 "nbformat_minor": 2
}
