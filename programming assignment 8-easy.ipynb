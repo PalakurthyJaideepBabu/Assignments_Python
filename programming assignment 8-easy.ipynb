{
 "cells": [
  {
   "cell_type": "markdown",
   "metadata": {},
   "source": [
    "1.\tWrite a Python Program to Add Two Matrices?"
   ]
  },
  {
   "cell_type": "code",
   "execution_count": 5,
   "metadata": {},
   "outputs": [
    {
     "name": "stdout",
     "output_type": "stream",
     "text": [
      "Enter number of rows: 2\n",
      "Enter number of columns: 2\n",
      "Enter elements in first matrix: \n",
      "1\n",
      "2\n",
      "3\n",
      "4\n",
      "First Matrix is: \n",
      "[1, 2]\n",
      "[3, 4]\n",
      "Enter elements in second matrix: \n",
      "5\n",
      "6\n",
      "7\n",
      "8\n",
      "Second Matrix is: \n",
      "[5, 6]\n",
      "[7, 8]\n",
      "Sum of two matrices is: \n",
      "[6, 8]\n",
      "[10, 12]\n"
     ]
    }
   ],
   "source": [
    "row=int(input(\"Enter number of rows: \"))\n",
    "cols=int(input(\"Enter number of columns: \"))\n",
    "print(\"Enter elements in first matrix: \")\n",
    "matrix_a=[[int(input()) for i in range(cols)] for i in range (row)]\n",
    "print(\"First Matrix is: \")\n",
    "for n in matrix_a:\n",
    "    print(n)\n",
    "print(\"Enter elements in second matrix: \")\n",
    "matrix_b=[[int(input()) for i in range(cols)] for i in range (row)]\n",
    "print(\"Second Matrix is: \")\n",
    "for n in matrix_b:\n",
    "    print(n)\n",
    "matric_c_res=[[0 for i in range(cols)] for i in range(row)]\n",
    "for i in range(row):\n",
    "    for j in range(cols):\n",
    "        matric_c_res[i][j]=matrix_a[i][j]+matrix_b[i][j]\n",
    "print(\"Sum of two matrices is: \")\n",
    "for n in matric_c_res:\n",
    "    print(n)"
   ]
  },
  {
   "cell_type": "markdown",
   "metadata": {},
   "source": [
    "2.\tWrite a Python Program to Multiply Two Matrices?"
   ]
  },
  {
   "cell_type": "code",
   "execution_count": 2,
   "metadata": {},
   "outputs": [
    {
     "name": "stdout",
     "output_type": "stream",
     "text": [
      "Enter number of rows in matrix: 3\n",
      "Enter number of columns in matrix: 3\n",
      "Enter elements of first matrix \n",
      "2\n",
      "1\n",
      "4\n",
      "2\n",
      "1\n",
      "2\n",
      "3\n",
      "4\n",
      "3\n",
      "First matrix is \n",
      "[2, 1, 4]\n",
      "[2, 1, 2]\n",
      "[3, 4, 3]\n",
      "Enter elements of second matrix \n",
      "1\n",
      "2\n",
      "3\n",
      "4\n",
      "5\n",
      "6\n",
      "7\n",
      "8\n",
      "9\n",
      "Second matrix is \n",
      "[2, 1, 4]\n",
      "[2, 1, 2]\n",
      "[3, 4, 3]\n",
      "Multiplication of two matrices is \n",
      "[34, 41, 48]\n",
      "[20, 25, 30]\n",
      "[40, 50, 60]\n"
     ]
    }
   ],
   "source": [
    "rows=int(input(\"Enter number of rows in matrix: \"))\n",
    "col=int(input(\"Enter number of columns in matrix: \"))\n",
    "print(\"Enter elements of first matrix \")\n",
    "matrix_a=[[int(input()) for i in range(col)]for i in range(rows)]\n",
    "print(\"First matrix is \")\n",
    "for n in matrix_a:\n",
    "    print(n)\n",
    "print(\"Enter elements of second matrix \")\n",
    "matrix_b=[[int(input()) for i in range(col)]for i in range(rows)]\n",
    "print(\"Second matrix is \")\n",
    "for n in matrix_a:\n",
    "    print(n)\n",
    "mul_c=[[0 for i in range(col)] for i in range(rows)]\n",
    "for i in range(len(matrix_a)):\n",
    "    for j in range(len(matrix_b[0])):\n",
    "        for k in range(len(matrix_b)):\n",
    "            mul_c[i][j]+=matrix_a[i][k]*matrix_b[k][j]\n",
    "print(\"Multiplication of two matrices is \")\n",
    "for n in mul_c:\n",
    "    print(n)"
   ]
  },
  {
   "cell_type": "markdown",
   "metadata": {},
   "source": [
    "3.\tWrite a Python Program to Transpose a Matrix?"
   ]
  },
  {
   "cell_type": "code",
   "execution_count": 5,
   "metadata": {},
   "outputs": [
    {
     "name": "stdout",
     "output_type": "stream",
     "text": [
      "Enter number of rows in matrix: 3\n",
      "Enter number of columns in matrix: 3\n",
      "Enter elements of matrix for trans \n",
      "1\n",
      "2\n",
      "3\n",
      "4\n",
      "5\n",
      "6\n",
      "7\n",
      "8\n",
      "9\n",
      "Matrix is \n",
      "[1, 2, 3]\n",
      "[4, 5, 6]\n",
      "[7, 8, 9]\n",
      "Trnaspose of matrix is \n",
      "[1, 4, 7]\n",
      "[2, 5, 8]\n",
      "[3, 6, 9]\n"
     ]
    }
   ],
   "source": [
    "rows=int(input(\"Enter number of rows in matrix: \"))\n",
    "col=int(input(\"Enter number of columns in matrix: \"))\n",
    "print(\"Enter elements of matrix for trans \")\n",
    "matrix_a=[[int(input()) for i in range(col)]for i in range(rows)]\n",
    "print(\"Matrix is \")\n",
    "for n in matrix_a:\n",
    "    print(n)\n",
    "transpose_c=[[0 for i in range(col)] for i in range(rows)]\n",
    "for i in range(len(matrix_a)):\n",
    "    for j in range(len(matrix_a[0])):\n",
    "        transpose_c[i][j]=matrix_a[j][i]\n",
    "print(\"Trnaspose of matrix is \")\n",
    "for n in transpose_c:\n",
    "    print(n)"
   ]
  },
  {
   "cell_type": "markdown",
   "metadata": {},
   "source": [
    "4.\tWrite a Python Program to Sort Words in Alphabetic Order?"
   ]
  },
  {
   "cell_type": "code",
   "execution_count": 17,
   "metadata": {},
   "outputs": [
    {
     "name": "stdout",
     "output_type": "stream",
     "text": [
      "Enter words to sort in alphabetical order: Banana apple car I want to switch my job\n",
      "apple\n",
      "banana\n",
      "car\n",
      "i\n",
      "job\n",
      "my\n",
      "switch\n",
      "to\n",
      "want\n"
     ]
    }
   ],
   "source": [
    "wordstr=input(\"Enter words to sort in alphabetical order: \")\n",
    "l1=wordstr.split()\n",
    "#print(l1)\n",
    "l2=[]\n",
    "for i in l1:\n",
    "    l2.append(i.lower())\n",
    "#print(l2)\n",
    "#print(l2)\n",
    "l2.sort()\n",
    "#print(l2)\n",
    "for i in l2:\n",
    "    print(i)"
   ]
  },
  {
   "cell_type": "markdown",
   "metadata": {},
   "source": [
    "5.\tWrite a Python Program to Remove Punctuation From a String?"
   ]
  },
  {
   "cell_type": "code",
   "execution_count": 26,
   "metadata": {},
   "outputs": [
    {
     "name": "stdout",
     "output_type": "stream",
     "text": [
      "Enter the string with punctuations \"I % wa%^&&*nt ^ to swi@tch & my job*)()\"\n",
      "String without punctuation is \n",
      "I  want  to switch  my job\n"
     ]
    }
   ],
   "source": [
    "punc = '''!()-[]{};:'\"\\,<>./?@#$%^&*_~'''\n",
    "strwithpunc=input(\"Enter the string with punctuations \")\n",
    "strwithoutpunc=\"\"\n",
    "for i in strwithpunc:\n",
    "    #print(i)\n",
    "    if(i not in punc):\n",
    "        strwithoutpunc+=i\n",
    "print(\"String without punctuation is \")\n",
    "print(strwithoutpunc)"
   ]
  },
  {
   "cell_type": "code",
   "execution_count": null,
   "metadata": {},
   "outputs": [],
   "source": []
  }
 ],
 "metadata": {
  "kernelspec": {
   "display_name": "Python 3",
   "language": "python",
   "name": "python3"
  },
  "language_info": {
   "codemirror_mode": {
    "name": "ipython",
    "version": 3
   },
   "file_extension": ".py",
   "mimetype": "text/x-python",
   "name": "python",
   "nbconvert_exporter": "python",
   "pygments_lexer": "ipython3",
   "version": "3.7.1"
  }
 },
 "nbformat": 4,
 "nbformat_minor": 2
}
