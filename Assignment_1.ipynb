{
 "cells": [
  {
   "cell_type": "markdown",
   "metadata": {},
   "source": [
    "Q1) Write a Python program to print &quot;Hello Python&quot;?"
   ]
  },
  {
   "cell_type": "code",
   "execution_count": 1,
   "metadata": {},
   "outputs": [
    {
     "name": "stdout",
     "output_type": "stream",
     "text": [
      "Hello Python\n"
     ]
    }
   ],
   "source": [
    "a=\"Hello Python\"\n",
    "print(a)"
   ]
  },
  {
   "cell_type": "markdown",
   "metadata": {},
   "source": [
    "2) Write a Python program to do arithmetical operations addition and division.?"
   ]
  },
  {
   "cell_type": "code",
   "execution_count": 2,
   "metadata": {},
   "outputs": [
    {
     "name": "stdout",
     "output_type": "stream",
     "text": [
      "Enter first number 89.98\n",
      "Enter second number 90.78\n",
      "Sum of entered two numbers is 180.76\n"
     ]
    }
   ],
   "source": [
    "#Addition\n",
    "no1=float(input(\"Enter first number \"))\n",
    "no2=float(input(\"Enter second number \"))\n",
    "add=no1+no2\n",
    "print(\"Sum of entered two numbers is\",add)"
   ]
  },
  {
   "cell_type": "code",
   "execution_count": 3,
   "metadata": {},
   "outputs": [
    {
     "name": "stdout",
     "output_type": "stream",
     "text": [
      "Enter first number 98.879\n",
      "Enter second number 9765.98\n",
      "Divison of entered two numbers is 0.010124841541760275\n"
     ]
    }
   ],
   "source": [
    "#Division\n",
    "no3=float(input(\"Enter first number \"))\n",
    "no4=float(input(\"Enter second number \"))\n",
    "div=no3/no4\n",
    "print(\"Divison of entered two numbers is\",div)"
   ]
  },
  {
   "cell_type": "markdown",
   "metadata": {},
   "source": [
    "3) Write a Python program to find the area of a triangle?"
   ]
  },
  {
   "cell_type": "code",
   "execution_count": 45,
   "metadata": {},
   "outputs": [
    {
     "name": "stdout",
     "output_type": "stream",
     "text": [
      "Enter base of traingle 89\n",
      "Enter height of triangle 98.6543\n",
      "Area of traingle is  4390.11635\n"
     ]
    }
   ],
   "source": [
    "no5=float(input(\"Enter base of traingle \"))\n",
    "no6=float(input(\"Enter height of triangle \"))\n",
    "area=(1/2)*no5*no6\n",
    "print(\"Area of traingle is \",area)"
   ]
  },
  {
   "cell_type": "markdown",
   "metadata": {},
   "source": [
    "4) Write a Python program to swap two variables?"
   ]
  },
  {
   "cell_type": "code",
   "execution_count": 46,
   "metadata": {},
   "outputs": [
    {
     "name": "stdout",
     "output_type": "stream",
     "text": [
      "Enter the value of first variable: uji\n",
      "Enter the value of second variable: oiuy\n",
      "Before swapping - The value of first variable:  uji\n",
      "Before swapping - The value of second variable:  oiuy\n",
      "Before swapping variable 1=uji  variable 2=oiuy\n",
      "After swapping - The value of first variable:  oiuy\n",
      "After swapping - The value of second variable:  uji\n",
      "After swapping variable 1=oiuy  variable 2=uji\n"
     ]
    }
   ],
   "source": [
    "a=input(\"Enter the value of first variable: \")\n",
    "b=input(\"Enter the value of second variable: \")\n",
    "print(\"Before swapping - The value of first variable: \",a)\n",
    "print(\"Before swapping - The value of second variable: \",b)\n",
    "print(\"Before swapping \"+\"variable 1=\"+a+\"  \"+\"variable 2=\"+b)\n",
    "x=a\n",
    "y=b\n",
    "a=y\n",
    "b=x\n",
    "print(\"After swapping - The value of first variable: \",a)\n",
    "print(\"After swapping - The value of second variable: \",b)\n",
    "print(\"After swapping \"+\"variable 1=\"+a+\"  \"+\"variable 2=\"+b)"
   ]
  },
  {
   "cell_type": "markdown",
   "metadata": {},
   "source": [
    "5) Write a Python program to generate a random number?"
   ]
  },
  {
   "cell_type": "code",
   "execution_count": 47,
   "metadata": {},
   "outputs": [
    {
     "name": "stdout",
     "output_type": "stream",
     "text": [
      "Random number by default  0.34139398878239435\n",
      "Enter the smallest number in which your random number should be 89\n",
      "Enter the highest number in which your random number should be 97\n",
      "Random number in the given range is  89\n"
     ]
    }
   ],
   "source": [
    "import random\n",
    "z=random\n",
    "q=z.random()\n",
    "print(\"Random number by default \",q)\n",
    "t=int(input(\"Enter the smallest number in which your random number should be \"))\n",
    "n=int(input(\"Enter the highest number in which your random number should be \"))\n",
    "h=z.randint(t,n)\n",
    "print(\"Random number in the given range is \",h)"
   ]
  },
  {
   "cell_type": "code",
   "execution_count": null,
   "metadata": {},
   "outputs": [],
   "source": []
  }
 ],
 "metadata": {
  "kernelspec": {
   "display_name": "Python 3",
   "language": "python",
   "name": "python3"
  },
  "language_info": {
   "codemirror_mode": {
    "name": "ipython",
    "version": 3
   },
   "file_extension": ".py",
   "mimetype": "text/x-python",
   "name": "python",
   "nbconvert_exporter": "python",
   "pygments_lexer": "ipython3",
   "version": "3.7.1"
  }
 },
 "nbformat": 4,
 "nbformat_minor": 2
}
