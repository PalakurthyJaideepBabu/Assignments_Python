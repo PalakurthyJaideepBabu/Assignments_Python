{
 "cells": [
  {
   "cell_type": "markdown",
   "metadata": {},
   "source": [
    "1) Write a Python program to convert kilometers to miles?"
   ]
  },
  {
   "cell_type": "code",
   "execution_count": 3,
   "metadata": {},
   "outputs": [
    {
     "name": "stdout",
     "output_type": "stream",
     "text": [
      "Enter distance in kilometers 45\n",
      "The number of miles for 45.0 km is 27.96165 miles\n"
     ]
    }
   ],
   "source": [
    "input_km=float(input((\"Enter distance in kilometers \")))\n",
    "miles=(input_km)*(.62137)\n",
    "print(\"The number of miles for \"+str(input_km)+\" km is \"+str(miles)+\" miles\")"
   ]
  },
  {
   "cell_type": "markdown",
   "metadata": {},
   "source": [
    "2) Write a Python program to convert Celsius to Fahrenheit?"
   ]
  },
  {
   "cell_type": "code",
   "execution_count": 2,
   "metadata": {},
   "outputs": [
    {
     "name": "stdout",
     "output_type": "stream",
     "text": [
      "Enter the temperature in degree Celsius 34\n",
      "The temperature in fahrenheit for 34.0  degree celsius is 93.2\n"
     ]
    }
   ],
   "source": [
    "input_temp=float(input(\"Enter the temperature in degree Celsius \"))\n",
    "fahrenheit=(input_temp*(9/5))+32\n",
    "print(\"The temperature in fahrenheit for \"+str(input_temp)+ \"  degree celsius is \"+str(fahrenheit))"
   ]
  },
  {
   "cell_type": "markdown",
   "metadata": {},
   "source": [
    "3) Write a Python program to display calendar?"
   ]
  },
  {
   "cell_type": "code",
   "execution_count": 4,
   "metadata": {},
   "outputs": [
    {
     "name": "stdout",
     "output_type": "stream",
     "text": [
      "Enter a year as XXXX or xx: 2312\n",
      "Enter a month between 1 to 12: 12\n",
      "   December 2312\n",
      "Mo Tu We Th Fr Sa Su\n",
      "                   1\n",
      " 2  3  4  5  6  7  8\n",
      " 9 10 11 12 13 14 15\n",
      "16 17 18 19 20 21 22\n",
      "23 24 25 26 27 28 29\n",
      "30 31\n",
      "\n"
     ]
    }
   ],
   "source": [
    "import calendar\n",
    "year=int(input(\"Enter a year as XXXX or xx: \"))\n",
    "month=int(input(\"Enter a month between 1 to 12: \"))\n",
    "print(calendar.month(year,month))"
   ]
  },
  {
   "cell_type": "markdown",
   "metadata": {},
   "source": [
    "4) Write a Python program to solve quadratic equation?"
   ]
  },
  {
   "cell_type": "code",
   "execution_count": 24,
   "metadata": {},
   "outputs": [
    {
     "name": "stdout",
     "output_type": "stream",
     "text": [
      "Enter a in (a*x*x)+(b*x)+c: 1\n",
      "Enter b in (a*x*x)+(b*x)+c: 2\n",
      "Enter c in (a*x*x)+(b*x)+c: 3\n",
      "Complex roots\n",
      "The solution are (-0.9999999999999999+1.4142135623730951j) and (-1-1.4142135623730951j)\n"
     ]
    }
   ],
   "source": [
    "a=int(input(\"Enter a in (a*x*x)+(b*x)+c: \"))\n",
    "b=int(input(\"Enter b in (a*x*x)+(b*x)+c: \"))\n",
    "c=int(input(\"Enter c in (a*x*x)+(b*x)+c: \"))\n",
    "d=(b*b)-(4*a*c)\n",
    "if d>0:\n",
    "    print(\"Real and different roots\")\n",
    "elif d==0:\n",
    "    print(\"Real and same roots\")\n",
    "elif d<0:\n",
    "    print(\"Complex roots\")\n",
    "ans1=(-b+((d**0.5)))/(2*a)\n",
    "ans2=(-b-((d**0.5)))/(2*a)\n",
    "print(\"The solution are \"+str(ans1)+\" and \"+str(ans2))"
   ]
  },
  {
   "cell_type": "markdown",
   "metadata": {},
   "source": [
    "5) Write a Python program to swap two variables without temp variable?"
   ]
  },
  {
   "cell_type": "code",
   "execution_count": 28,
   "metadata": {},
   "outputs": [
    {
     "name": "stdout",
     "output_type": "stream",
     "text": [
      "Enter value of first variable 1234\n",
      "Enter value of second variable 4321\n",
      "The value of variable1 before swapping is  1234\n",
      "The value of variable2 before swapping is  4321\n",
      "The value of variable1 after swapping is  4321\n",
      "The value of variable2 after swapping is  1234\n"
     ]
    }
   ],
   "source": [
    "variable1=input(\"Enter value of first variable \")\n",
    "variable2=input(\"Enter value of second variable \")\n",
    "print(\"The value of variable1 before swapping is \",variable1)\n",
    "print(\"The value of variable2 before swapping is \",variable2)\n",
    "variable1,variable2=variable2,variable1\n",
    "print(\"The value of variable1 after swapping is \",variable1)\n",
    "print(\"The value of variable2 after swapping is \",variable2)"
   ]
  },
  {
   "cell_type": "code",
   "execution_count": 32,
   "metadata": {},
   "outputs": [
    {
     "name": "stdout",
     "output_type": "stream",
     "text": [
      "Enter value of first variable 1\n",
      "Enter value of second variable 2\n",
      "The value of variable1 before swapping is  1\n",
      "The value of variable2 before swapping is  2\n",
      "The value of variable1 after swapping is  2\n",
      "The value of variable2 after swapping is  1\n"
     ]
    }
   ],
   "source": [
    "variable1=input(\"Enter value of first variable \")\n",
    "variable2=input(\"Enter value of second variable \")\n",
    "print(\"The value of variable1 before swapping is \",variable1)\n",
    "print(\"The value of variable2 before swapping is \",variable2)\n",
    "var3=variable1\n",
    "var4=variable2\n",
    "variable1=var4\n",
    "variable2=var3\n",
    "print(\"The value of variable1 after swapping is \",variable1)\n",
    "print(\"The value of variable2 after swapping is \",variable2)"
   ]
  },
  {
   "cell_type": "code",
   "execution_count": null,
   "metadata": {},
   "outputs": [],
   "source": []
  }
 ],
 "metadata": {
  "kernelspec": {
   "display_name": "Python 3",
   "language": "python",
   "name": "python3"
  },
  "language_info": {
   "codemirror_mode": {
    "name": "ipython",
    "version": 3
   },
   "file_extension": ".py",
   "mimetype": "text/x-python",
   "name": "python",
   "nbconvert_exporter": "python",
   "pygments_lexer": "ipython3",
   "version": "3.7.1"
  }
 },
 "nbformat": 4,
 "nbformat_minor": 2
}
