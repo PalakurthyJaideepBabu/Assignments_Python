{
 "cells": [
  {
   "cell_type": "markdown",
   "metadata": {},
   "source": [
    "5.\tWrite a Python Program for cube sum of first n natural numbers"
   ]
  },
  {
   "cell_type": "code",
   "execution_count": 7,
   "metadata": {},
   "outputs": [
    {
     "name": "stdout",
     "output_type": "stream",
     "text": [
      "Enter a number till which cube should be caluclated: 3\n",
      "Sum of cubes of is 36\n"
     ]
    }
   ],
   "source": [
    "no1=int(input(\"Enter a number till which cube should be caluclated: \"))\n",
    "#no1=3\n",
    "l1=[]\n",
    "for i in range(1,no1+1):\n",
    "    a=i**3\n",
    "    l1.append(a)\n",
    "print(\"Sum of cubes of is \"+str(sum(l1)))"
   ]
  },
  {
   "cell_type": "markdown",
   "metadata": {},
   "source": [
    "4.\tWrite a Python Program to calculate the natural logarithm of any number?"
   ]
  },
  {
   "cell_type": "code",
   "execution_count": 12,
   "metadata": {},
   "outputs": [
    {
     "name": "stdout",
     "output_type": "stream",
     "text": [
      "Enter a number for which log should be caluclated 2\n",
      "The natural log for entered number is 0.6931471805599453\n",
      "The log for entered number with base 10 is 0.30102999566398114\n"
     ]
    }
   ],
   "source": [
    "no2=int(input(\"Enter a number for which log should be caluclated \"))\n",
    "import math\n",
    "print(\"The natural log for entered number is \"+str(math.log(no2)))\n",
    "print(\"The log for entered number with base 10 is \"+str(math.log(no2,10)))"
   ]
  },
  {
   "cell_type": "markdown",
   "metadata": {},
   "source": [
    "3.\tWrite a Python Program to calculate your Body Mass Index?"
   ]
  },
  {
   "cell_type": "code",
   "execution_count": 1,
   "metadata": {},
   "outputs": [
    {
     "name": "stdout",
     "output_type": "stream",
     "text": [
      "Enter your weight to know your body mass index in kilograms: 56\n",
      "Enter your height to know your body mass index in meters: 2\n",
      "14.0\n",
      "You are severly underweight\n"
     ]
    }
   ],
   "source": [
    "no3=int(input(\"Enter your weight to know your body mass index in kilograms: \"))\n",
    "no4=int(input(\"Enter your height to know your body mass index in meters: \"))\n",
    "bmi=no3/(no4**2)\n",
    "print(bmi)\n",
    "if(bmi<=16):\n",
    "    print(\"You are severly underweight\")\n",
    "elif(bmi>16 and bmi<=18.5):\n",
    "    print(\"You are underweight\")\n",
    "elif(bmi>18.5 and bmi<=25):\n",
    "    print(\"You are healthy\")\n",
    "elif(bmi>25 and bmi<=30):\n",
    "    print(\"You are overweight\")\n",
    "elif(bmi>30):\n",
    "    print(\"You are severly overweight\")"
   ]
  },
  {
   "cell_type": "markdown",
   "metadata": {},
   "source": [
    "2.\tWrite a Python Program to Find Factorial of Number Using Recursion?"
   ]
  },
  {
   "cell_type": "code",
   "execution_count": 6,
   "metadata": {},
   "outputs": [
    {
     "name": "stdout",
     "output_type": "stream",
     "text": [
      "Enter a number find its factorial 4\n",
      "The factorial for entered number is 24\n"
     ]
    }
   ],
   "source": [
    "no5=int(input(\"Enter a number find its factorial \"))\n",
    "def factorial_no(x):\n",
    "    if(x==1):\n",
    "        return 1\n",
    "    else:\n",
    "        return(x*factorial_no(x-1))\n",
    "if(no5==0 or no5==1):\n",
    "    print(\"The factorial for entered number is 1\")\n",
    "elif(no5>1):\n",
    "    print(\"The factorial for entered number is \"+str(factorial_no(no5)))\n",
    "elif(no5<0):\n",
    "    print(\"The factorial cannot be found for negative numbers\")"
   ]
  },
  {
   "cell_type": "markdown",
   "metadata": {},
   "source": [
    "1.\tWrite a Python Program to Display Fibonacci Sequence Using Recursion?"
   ]
  },
  {
   "cell_type": "code",
   "execution_count": 18,
   "metadata": {},
   "outputs": [
    {
     "name": "stdout",
     "output_type": "stream",
     "text": [
      "Enter number of terms requird in Fibonnaci series: 7\n",
      "Fibbonaci series\n",
      "1\n",
      "1\n",
      "2\n",
      "3\n",
      "5\n",
      "8\n",
      "13\n"
     ]
    }
   ],
   "source": [
    "no6=int(input(\"Enter number of terms requird in Fibonnaci series: \"))\n",
    "def fibbonaci_no(n):\n",
    "    if(n<=1):\n",
    "        return 1\n",
    "    else:\n",
    "        return(fibbonaci_no(n-1)+fibbonaci_no(n-2))\n",
    "if(no6<=0):\n",
    "    print(\"Please enter a positive non zero number\")\n",
    "else:\n",
    "    print(\"Fibbonaci series\")\n",
    "    for i in range(no6):\n",
    "        print(fibbonaci_no(i))"
   ]
  },
  {
   "cell_type": "code",
   "execution_count": null,
   "metadata": {},
   "outputs": [],
   "source": []
  }
 ],
 "metadata": {
  "kernelspec": {
   "display_name": "Python 3",
   "language": "python",
   "name": "python3"
  },
  "language_info": {
   "codemirror_mode": {
    "name": "ipython",
    "version": 3
   },
   "file_extension": ".py",
   "mimetype": "text/x-python",
   "name": "python",
   "nbconvert_exporter": "python",
   "pygments_lexer": "ipython3",
   "version": "3.7.1"
  }
 },
 "nbformat": 4,
 "nbformat_minor": 2
}
