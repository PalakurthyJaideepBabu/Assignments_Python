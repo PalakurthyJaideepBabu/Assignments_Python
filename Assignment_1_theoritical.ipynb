{
 "cells": [
  {
   "cell_type": "markdown",
   "metadata": {},
   "source": [
    "1. In the below elements which of them are values or an expression? eg:- values can be\n",
    "integer or string and expressions will be mathematical operators.\n",
    "*\n",
    "&#39;hello&#39;\n",
    "-87.8\n",
    "-\n",
    "/\n",
    "+\n",
    "6"
   ]
  },
  {
   "cell_type": "code",
   "execution_count": null,
   "metadata": {},
   "outputs": [],
   "source": [
    "Ans)\n",
    "* - expression - mathematical operator used for multiplication of two numbers.\n",
    "'hello' - value - String\n",
    "-87.8 - value - Negative floating decimal number\n",
    "- - expression - mathematical arithmetic operator used for subtraction of two numbers.\n",
    "/ - expression - mathematical arithmetic operator used for division of two numbers.\n",
    "+ - expression - mathematical arithmetic operator used for addition of two numbers.\n",
    "6 - value - Integer"
   ]
  },
  {
   "cell_type": "markdown",
   "metadata": {},
   "source": [
    "2. What is the difference between string and variable?"
   ]
  },
  {
   "cell_type": "code",
   "execution_count": null,
   "metadata": {},
   "outputs": [],
   "source": [
    "Variable:\n",
    "    A variable is used for storing and identifying a value/information in a memory location and change/manipulate it whenever needed.\n",
    "    A variable is a name that refers to value\n",
    "    Ex: a=10\n",
    "        In variable named a the value 10 which is of type interger is stored\n",
    "        b=\"Ram\"\n",
    "        In variable named b the value Ram which is of type String is stored\n",
    "        A variable can be of several types like integer,string, float, complex numbers etc., based on value assigned to it.\n",
    "        Space cannot be used in a variable name\n",
    "String:\n",
    "    If a value is assigned to variable in \"\"(double quotes) or ''(single quotes) then it is considered as a string in python.\n",
    "    Ex: a=\"Ram\"\n",
    "        In variable named a the text/string called Ram is stored.\n",
    "        b=\"1020\"\n",
    "        In variable named b the text/string called 1020 is stored.\n",
    "        Space can be stored as string.\n",
    "        c=\" \"\n",
    "        In variable named c the text/string called \" \" is stored.\n",
    "We cannot store variable in string but we can store string in a variable."
   ]
  },
  {
   "cell_type": "markdown",
   "metadata": {},
   "source": [
    "3. Describe three different data types."
   ]
  },
  {
   "cell_type": "code",
   "execution_count": null,
   "metadata": {},
   "outputs": [],
   "source": [
    "Three different types in Python are:\n",
    "In python for finding type of varible we can use type(variable name)\n",
    "    1)Integer:\n",
    "    Integer is data type used for integer values. It cannot accept floating point decimals.\n",
    "    Ex: a=10\n",
    "        b=2345\n",
    "    2)Float:\n",
    "    Float is data type used for numbers with decimal points.(Floatimg point number)\n",
    "    Ex : a=10.23 \n",
    "         b= 123.678\n",
    "    3)String\n",
    "    Sequence of characters data enclosed between \"\"(double quotes) or ''(single quotes) then it is considered as a string in python.\n",
    "    a=\"Sita\"\n",
    "    In variable named a the string called Sita is stored.\n",
    "    b=\"20.675\"\n",
    "    In variable named b the text/string called 20.675 is stored.\n",
    "    4)Boolean:\n",
    "    Boolean types consists of only two values:\n",
    "    a)True\n",
    "    b)False\n",
    "    5)List:\n",
    "    Used for storing sequence of values like String,Integers,Complex numbers, Strings and others.It is mutable. Emclosed between []\n",
    "    Ex: [1,2,34,98,\"Ram\"]\n",
    "    6)Tuple:\n",
    "    Used for storing sequence of values like String,Integers,Complex numbers, Strings and others but it is mutable.Enclosed between ()\n",
    "    Ex: (1,2,3)\n",
    "    "
   ]
  },
  {
   "cell_type": "markdown",
   "metadata": {},
   "source": [
    "4. What is an expression made up of? What do all expressions do?"
   ]
  },
  {
   "cell_type": "code",
   "execution_count": null,
   "metadata": {},
   "outputs": [],
   "source": [
    "Expressions: \n",
    "    Expressions are representation of values(like number,string or an instance of class) and an expressions are made of\n",
    "    combination of values, variables and operators.\n",
    "Any value contained in a statement is expression.\n",
    "Expressions are used for evaluting things in python.\n",
    "Values are produced by evaluating expression in python so expressions will appear on the right hand side of assignment \n",
    "statements. A value all by itself is a simple expression, and so is a variable.\n",
    "Ex:1) abc=\"Ram\"\n",
    "    TOutput is 'Ram'\n",
    "    2)z=8.26 or y=len(\"Ram\")- which produces output as 3\n",
    "(Eval takes an expression as an argument)"
   ]
  },
  {
   "cell_type": "markdown",
   "metadata": {},
   "source": [
    "5) This assignment statements, like spam = 10. What is the difference between an\n",
    "expression and a statement?"
   ]
  },
  {
   "cell_type": "raw",
   "metadata": {},
   "source": [
    "The assignment statements are used for giving value to a variable or we can assign object to names.\n",
    "On the left side of equal to sign target of an ssignment is written.\n",
    "On the right side of equal to sign any expression that computes object can be written.\n",
    "The assignment statement binds a name, on the left-hand side of the operator, to a value, on the right-hand side. \n",
    "Ex: n=14\n",
    "    the integer 14 is assigned to variable named n or n gets assigned to 14\n",
    "    m=\"Sita\"\n",
    "    The string value \"Sita\" is assigned to variable named m\n",
    "Difference between expression and statement:\n",
    "    Statement:1)It is an instruction that can be executed by Python interpreter.\n",
    "    2)A statement never returns a value\n",
    "    3)Cannot print any result.\n",
    "    Examples Of Python Statements: Assignment statements like (n=14), conditional branching, loops, classes,pass etc\n",
    "    Expression:1)These are represenatation of values and are made up of combination of variables,values, operators and calls to functions and are need to be evaluated.\n",
    "    2)An expression always returns a value \n",
    "    3)Result value can be printed on screen.\n",
    "Functions are also expressions. Even a non returning function will still return None value, so it is an expression.\n",
    "        All the expressions can be considered as statements\n",
    "        Examples Of Python Expressions: “Hello” + “Ram”, 9 + 7"
   ]
  },
  {
   "cell_type": "markdown",
   "metadata": {},
   "source": [
    "6. After running the following code, what does the variable bacon contain?\n",
    "bacon = 22\n",
    "bacon + 1"
   ]
  },
  {
   "cell_type": "code",
   "execution_count": 9,
   "metadata": {},
   "outputs": [
    {
     "name": "stdout",
     "output_type": "stream",
     "text": [
      "After execution variable bacon contains  22\n"
     ]
    }
   ],
   "source": [
    "bacon = 22\n",
    "bacon + 1\n",
    "print(\"After execution variable bacon contains \",bacon)\n",
    "#As bacon+1 value is not stored in any varaible the output or the value present in bacon would be 22\n",
    "#If bacon+1 is stored in baon again then number would increment and outpt would be 23\n",
    "#bacon=bacon+1\n",
    "#print(bacon)"
   ]
  },
  {
   "cell_type": "markdown",
   "metadata": {},
   "source": [
    "7. What should the values of the following two terms be?\n",
    "&#39;spam&#39; + &#39;spamspam&#39;\n",
    "&#39;spam&#39; * 3"
   ]
  },
  {
   "cell_type": "code",
   "execution_count": 19,
   "metadata": {},
   "outputs": [
    {
     "name": "stdout",
     "output_type": "stream",
     "text": [
      "The output of \"spam\" + \"spamspam\" is spamspamspam\n",
      "If assigned to variable spamspamspam\n",
      "The output of \"spam*3\" is spamspamspam\n",
      "If assigned to variable spamspamspam\n"
     ]
    }
   ],
   "source": [
    " print('The output of \"spam\" + \"spamspam\" is '+ 'spam' + 'spamspam')\n",
    "a='spam' + 'spamspam'\n",
    "print(\"If assigned to variable\",a)\n",
    "print('The output of \"spam*3\" is '+'spam'*3)\n",
    "b='spam'*3\n",
    "print(\"If assigned to variable\",b)"
   ]
  },
  {
   "cell_type": "markdown",
   "metadata": {},
   "source": [
    "8) Why is eggs a valid variable name while 100 is invalid?"
   ]
  },
  {
   "cell_type": "code",
   "execution_count": null,
   "metadata": {},
   "outputs": [],
   "source": [
    "A variable is a unique identifier for a value. When we reference a variable (eggs),Python will read the value associated with\n",
    "that variable. Python Variables are containers for values.They are not values in themselves. This means we cannot give a \n",
    "variable a name that is equal to a value(Python would not be able to distinguish variables from values)\n",
    "Variables cannot be strings(represented between \"\" or ''),boolenas, a list or a number.\n",
    "If we try to assign a value to varaible name which is invalid like 100=\"Ram\" we get below error:\n",
    "SyntaxError: can't assign to literal\n",
    "But when try to assign a value to variable eggs then it will not throw any error eggs get initialised with value.\n",
    "For Ex: eggs=100\n",
    "    Eggs variable get initialised with value 100.\n",
    "Error examples:\n",
    "[1,2]=\"Ram\"\n",
    "               ^\n",
    "SyntaxError: can't assign to literal"
   ]
  },
  {
   "cell_type": "markdown",
   "metadata": {},
   "source": [
    "9) What three functions can be used to get the integer, floating-point number, or string\n",
    "version of a value?"
   ]
  },
  {
   "cell_type": "code",
   "execution_count": null,
   "metadata": {},
   "outputs": [],
   "source": [
    "The function int can be used to get the integer version of a value in Python.\n",
    "Ex:a)a=109\n",
    "    int(a) \n",
    "    Output is 109\n",
    "    b) b=109.087\n",
    "    Output is 109\n",
    "The function float can be used to get the floating point number in Python.\n",
    "Ex:a)c=109.587\n",
    "    float(109.587)\n",
    "    Output is 109.587\n",
    "    b)d=100\n",
    "    float(100)\n",
    "    Output is 100.0\n",
    "The function str can be used to get the string version of a value in python.\n",
    "Ex:a) e=98.123\n",
    "    str(d)\n",
    "    Output is '98.123'\n",
    "   b) f=\"Ram\"\n",
    "       str(f)\n",
    "    Output is 'Ram'"
   ]
  },
  {
   "cell_type": "markdown",
   "metadata": {},
   "source": [
    "10)Why does this expression cause an error? How can you fix it?\n",
    "&#39;I have eaten &#39; + 99 + &#39; burritos.&#39;"
   ]
  },
  {
   "cell_type": "code",
   "execution_count": 26,
   "metadata": {
    "scrolled": true
   },
   "outputs": [
    {
     "data": {
      "text/plain": [
       "'I have eaten 99 burritos.'"
      ]
     },
     "execution_count": 26,
     "metadata": {},
     "output_type": "execute_result"
    }
   ],
   "source": [
    "#In python a string can be concatenated with another string but a string cannot be concatenated with integer.\n",
    "#'I have eaten ' + 99+ ' burritos.' - SO if we try to execute this code in python we will get error as\n",
    "#TypeError: can only concatenate str (not \"int\") to str\n",
    "#For fixing the error in concatenation operation enclose 99 in \"\" or '' \n",
    "'I have eaten ' +\"99\"+ ' burritos.'\n",
    "'I have eaten ' +'99'+ ' burritos.'"
   ]
  },
  {
   "cell_type": "code",
   "execution_count": 24,
   "metadata": {},
   "outputs": [
    {
     "data": {
      "text/plain": [
       "'Ram'"
      ]
     },
     "execution_count": 24,
     "metadata": {},
     "output_type": "execute_result"
    }
   ],
   "source": [
    "f='Ram'\n",
    "str(f)"
   ]
  }
 ],
 "metadata": {
  "kernelspec": {
   "display_name": "Python 3",
   "language": "python",
   "name": "python3"
  },
  "language_info": {
   "codemirror_mode": {
    "name": "ipython",
    "version": 3
   },
   "file_extension": ".py",
   "mimetype": "text/x-python",
   "name": "python",
   "nbconvert_exporter": "python",
   "pygments_lexer": "ipython3",
   "version": "3.7.1"
  }
 },
 "nbformat": 4,
 "nbformat_minor": 2
}
