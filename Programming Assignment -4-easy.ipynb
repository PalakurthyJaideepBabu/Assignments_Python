{
 "cells": [
  {
   "cell_type": "markdown",
   "metadata": {},
   "source": [
    "1.\tWrite a Python Program to Find the Factorial of a Number?"
   ]
  },
  {
   "cell_type": "code",
   "execution_count": 22,
   "metadata": {},
   "outputs": [
    {
     "name": "stdout",
     "output_type": "stream",
     "text": [
      "Enter a number to find factorial: 5\n",
      "Factorial of number is 120\n"
     ]
    }
   ],
   "source": [
    "no=int(input(\"Enter a number to find factorial: \"))\n",
    "fact=1\n",
    "if(no<0):\n",
    "    print(\"Factorial is not applicable\")\n",
    "elif(no==0):\n",
    "    print(\"Factorial is 1\")\n",
    "else:\n",
    "    for i in range(1,no+1):\n",
    "        fact=fact*i\n",
    "    #print(fact)\n",
    "    print(\"Factorial of number is \"+str(fact))"
   ]
  },
  {
   "cell_type": "markdown",
   "metadata": {},
   "source": [
    "2.Write a Python Program to Display the multiplication Table?"
   ]
  },
  {
   "cell_type": "code",
   "execution_count": 23,
   "metadata": {},
   "outputs": [
    {
     "name": "stdout",
     "output_type": "stream",
     "text": [
      "Enter a number to find multiplication table: 7\n",
      "Multiplication table for entered number is: \n",
      "7 x 1=7\n",
      "7 x 2=14\n",
      "7 x 3=21\n",
      "7 x 4=28\n",
      "7 x 5=35\n",
      "7 x 6=42\n",
      "7 x 7=49\n",
      "7 x 8=56\n",
      "7 x 9=63\n",
      "7 x 10=70\n",
      "7 x 11=77\n",
      "7 x 12=84\n",
      "7 x 13=91\n",
      "7 x 14=98\n",
      "7 x 15=105\n",
      "7 x 16=112\n",
      "7 x 17=119\n",
      "7 x 18=126\n",
      "7 x 19=133\n",
      "7 x 20=140\n"
     ]
    }
   ],
   "source": [
    "no1=int(input(\"Enter a number to find multiplication table: \"))\n",
    "print(\"Multiplication table for entered number is: \")\n",
    "for i in range(1,21):\n",
    "    print(str(no1 )+' x '+str( i )+'='+str(no1*i))\n",
    "    "
   ]
  },
  {
   "cell_type": "markdown",
   "metadata": {},
   "source": [
    "3.\tWrite a Python Program to Print the Fibonacci sequence?"
   ]
  },
  {
   "cell_type": "code",
   "execution_count": 24,
   "metadata": {},
   "outputs": [
    {
     "name": "stdout",
     "output_type": "stream",
     "text": [
      "Enter number of terms for Fibbonaci: 9\n",
      "0\n",
      "1\n",
      "1\n",
      "2\n",
      "3\n",
      "5\n",
      "8\n",
      "13\n",
      "21\n"
     ]
    }
   ],
   "source": [
    "no9=int(input(\"Enter number of terms for Fibbonaci: \"))\n",
    "u, v = 0, 1\n",
    "if(no9<=0):\n",
    "    print(\"Please enter a positive integer\")\n",
    "else:\n",
    "    for i in range(0, no9):\n",
    "        print(u)\n",
    "        u, v = v, u + v"
   ]
  },
  {
   "cell_type": "markdown",
   "metadata": {},
   "source": [
    "4.\tWrite a Python Program to Check Armstrong Number?"
   ]
  },
  {
   "cell_type": "code",
   "execution_count": 25,
   "metadata": {},
   "outputs": [
    {
     "name": "stdout",
     "output_type": "stream",
     "text": [
      "Enter a number to check whether it is Armstrong or not: 370\n",
      "Its a Armstrong number\n"
     ]
    }
   ],
   "source": [
    "no2=int(input(\"Enter a number to check whether it is Armstrong or not: \"))\n",
    "number=str(no2)\n",
    "l1=[]\n",
    "for i in range (0,len(number)):\n",
    "    p=int(number[i])\n",
    "    l1.append(p)\n",
    "    #print(l1)\n",
    "length=len(l1)\n",
    "l2=[j**length for j in l1]\n",
    "#print(l2)\n",
    "suml2=sum(l2)\n",
    "if(suml2==no2):\n",
    "    print(\"Its a Armstrong number\")\n",
    "else:\n",
    "\n",
    "    print(\"Not a Armstrong number\")"
   ]
  },
  {
   "cell_type": "markdown",
   "metadata": {},
   "source": [
    "5.\tWrite a Python Program to Find Armstrong Number in an Interval?"
   ]
  },
  {
   "cell_type": "code",
   "execution_count": 27,
   "metadata": {},
   "outputs": [
    {
     "name": "stdout",
     "output_type": "stream",
     "text": [
      "Enter an initial number to check whether it is Armstrong or not: 369\n",
      "Enter an final number to check whether it is Armstrong or not: 374\n",
      "Armstrong number in given interval is : 370\n",
      "Armstrong number in given interval is : 371\n"
     ]
    }
   ],
   "source": [
    "no3=int(input(\"Enter an initial number to check whether it is Armstrong or not: \"))\n",
    "no4=int(input(\"Enter an final number to check whether it is Armstrong or not: \"))\n",
    "#print(\"Below are the armstrong numbers in given interval\")\n",
    "for i in range(no3,no4+1):\n",
    "    number=str(i)\n",
    "    l1=[]\n",
    "    #print(i)\n",
    "    for j in range (0,len(number)):\n",
    "        p=int(number[j])\n",
    "        l1.append(p)\n",
    "        #print(l1)\n",
    "    #print(l1)\n",
    "    length=len(l1)\n",
    "    l2=[k**length for k in l1]\n",
    "    suml2=sum(l2)\n",
    "    #print(suml2)\n",
    "    if(suml2==i):\n",
    "        print(\"Armstrong number in given interval is : \"+str(i))"
   ]
  },
  {
   "cell_type": "markdown",
   "metadata": {},
   "source": [
    "6.\tWrite a Python Program to Find the Sum of Natural Numbers?"
   ]
  },
  {
   "cell_type": "code",
   "execution_count": 28,
   "metadata": {},
   "outputs": [
    {
     "name": "stdout",
     "output_type": "stream",
     "text": [
      "Enter a natural number for sum 6\n",
      "Sum of natural numbers from 1 to given number 6 is 21\n"
     ]
    }
   ],
   "source": [
    "no5=int(input(\"Enter a natural number for sum \"))\n",
    "l3=[i for i in range(1,no5+1)]\n",
    "suml3=sum(l3)\n",
    "print(\"Sum of natural numbers from 1 to given number \"+str(no5)+\" is \"+str(suml3))"
   ]
  },
  {
   "cell_type": "code",
   "execution_count": null,
   "metadata": {},
   "outputs": [],
   "source": []
  },
  {
   "cell_type": "code",
   "execution_count": null,
   "metadata": {},
   "outputs": [],
   "source": []
  }
 ],
 "metadata": {
  "kernelspec": {
   "display_name": "Python 3",
   "language": "python",
   "name": "python3"
  },
  "language_info": {
   "codemirror_mode": {
    "name": "ipython",
    "version": 3
   },
   "file_extension": ".py",
   "mimetype": "text/x-python",
   "name": "python",
   "nbconvert_exporter": "python",
   "pygments_lexer": "ipython3",
   "version": "3.7.1"
  }
 },
 "nbformat": 4,
 "nbformat_minor": 2
}
