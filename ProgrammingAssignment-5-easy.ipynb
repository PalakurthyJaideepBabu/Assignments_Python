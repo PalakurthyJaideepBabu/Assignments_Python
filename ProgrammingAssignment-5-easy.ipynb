{
 "cells": [
  {
   "cell_type": "markdown",
   "metadata": {},
   "source": [
    "1.\tWrite a Python Program to Find LCM?"
   ]
  },
  {
   "cell_type": "code",
   "execution_count": 12,
   "metadata": {},
   "outputs": [
    {
     "name": "stdout",
     "output_type": "stream",
     "text": [
      "Enter first number for finding LCM: 54\n",
      "Enter second number for finding LCM: 34\n",
      "LCM of entered numbers is via numpy is 918\n",
      "LCM of two numbers is : 918\n"
     ]
    }
   ],
   "source": [
    "import numpy as np\n",
    "no1=int(input(\"Enter first number for finding LCM: \"))\n",
    "no2=int(input(\"Enter second number for finding LCM: \"))\n",
    "np.lcm(no1,no2)\n",
    "print(\"LCM of entered numbers is via numpy is \"+str(np.lcm(no1,no2)))\n",
    "if(no1>no2):\n",
    "    higher = no1\n",
    "else:\n",
    "    higher=no2\n",
    "while(True):\n",
    "    if(higher%no1==0 and higher%no2==0):\n",
    "        print(\"LCM of two numbers is : \"+str(higher))\n",
    "        break\n",
    "    else:\n",
    "        higher+=1\n"
   ]
  },
  {
   "cell_type": "markdown",
   "metadata": {},
   "source": [
    "2.\tWrite a Python Program to Find HCF?"
   ]
  },
  {
   "cell_type": "code",
   "execution_count": 2,
   "metadata": {},
   "outputs": [
    {
     "name": "stdout",
     "output_type": "stream",
     "text": [
      "Enter first number for finding HCF: 54\n",
      "Enter second number for finding HCF: 24\n",
      "6\n"
     ]
    }
   ],
   "source": [
    "no1=int(input(\"Enter first number for finding HCF: \"))\n",
    "no2=int(input(\"Enter second number for finding HCF: \"))\n",
    "if(no1>no2):\n",
    "    lesser = no2\n",
    "else:\n",
    "    lesser=no1\n",
    "for i in range(1,lesser+1):\n",
    "    if(no1%i==0 and no2%i==0):\n",
    "        hcf=i\n",
    "print(hcf)\n",
    "#while(no2):\n",
    "#    no1,no2=no2,no1%no2\n",
    "#print(no1)"
   ]
  },
  {
   "cell_type": "markdown",
   "metadata": {},
   "source": [
    "3.\tWrite a Python Program to Convert Decimal to Binary, Octal and Hexadecimal?"
   ]
  },
  {
   "cell_type": "code",
   "execution_count": 21,
   "metadata": {},
   "outputs": [
    {
     "name": "stdout",
     "output_type": "stream",
     "text": [
      "Enter a decimal number to convert it into binary: 35\n",
      "The binary number for entered decimal number is 100011\n",
      "The octal number for entered decimal number is 0o43\n",
      "The hexadecimal number for entered decimal number is 0x23\n"
     ]
    }
   ],
   "source": [
    "no3=int(input(\"Enter a decimal number to convert it into binary: \"))\n",
    "bin_num=bin(no3).replace(\"0b\",\"\")\n",
    "print(\"The binary number for entered decimal number is \" + bin_num)\n",
    "#decimal to octal\n",
    "oct_num=oct(no3)\n",
    "print(\"The octal number for entered decimal number is \"+oct_num)\n",
    "hex_num=hex(no3)\n",
    "print(\"The hexadecimal number for entered decimal number is \"+hex_num)"
   ]
  },
  {
   "cell_type": "markdown",
   "metadata": {},
   "source": [
    "4.\tWrite a Python Program To Find ASCII value of a character?"
   ]
  },
  {
   "cell_type": "code",
   "execution_count": 31,
   "metadata": {},
   "outputs": [
    {
     "name": "stdout",
     "output_type": "stream",
     "text": [
      "Enter a character to find its ASCII value: !\n",
      "The ascii value for entered input is 33\n"
     ]
    }
   ],
   "source": [
    "char1=input(\"Enter a character to find its ASCII value: \")\n",
    "print(\"The ascii value for entered input is \"+str(ord(char1)))"
   ]
  },
  {
   "cell_type": "markdown",
   "metadata": {},
   "source": [
    "5.\tWrite a Python Program to Make a Simple Calculator with 4 basic mathematical operations?"
   ]
  },
  {
   "cell_type": "code",
   "execution_count": 11,
   "metadata": {},
   "outputs": [
    {
     "name": "stdout",
     "output_type": "stream",
     "text": [
      "Enter first number : 789\n",
      "Enter second number : 987\n",
      "Enter 1 for addition\n",
      " Enter 2 for subtraction \n",
      " Enter 3 for multiplication \n",
      " Enter 4 for division \n",
      "3\n",
      "778743.0\n"
     ]
    }
   ],
   "source": [
    "no4=float(input(\"Enter first number : \"))\n",
    "no5=float(input(\"Enter second number : \"))\n",
    "choice=int(input(\"Enter 1 for addition\"+\"\\n\"+\" Enter 2 for subtraction \\n Enter 3 for multiplication \\n Enter 4 for division \\n\"))\n",
    "def sum(x,y):\n",
    "    print(x+y)\n",
    "    return x+y\n",
    "def subtract(x,y):\n",
    "    print(x-y)\n",
    "    return x-y\n",
    "def mul(x,y):\n",
    "    print(x*y)\n",
    "    return x*y\n",
    "def divi(x,y):\n",
    "    print(x/y)\n",
    "    return(x/y)\n",
    "if(choice==1):\n",
    "    sum(no4,no5)\n",
    "elif(choice==2):\n",
    "    subtract(no4,no5)\n",
    "elif(choice==3):\n",
    "    mul(no4,no5)\n",
    "elif(choice==4):\n",
    "    divi(no4,no5)\n",
    "else:\n",
    "    print(\"Please select valid option\")"
   ]
  },
  {
   "cell_type": "code",
   "execution_count": null,
   "metadata": {},
   "outputs": [],
   "source": []
  }
 ],
 "metadata": {
  "kernelspec": {
   "display_name": "Python 3",
   "language": "python",
   "name": "python3"
  },
  "language_info": {
   "codemirror_mode": {
    "name": "ipython",
    "version": 3
   },
   "file_extension": ".py",
   "mimetype": "text/x-python",
   "name": "python",
   "nbconvert_exporter": "python",
   "pygments_lexer": "ipython3",
   "version": "3.7.1"
  }
 },
 "nbformat": 4,
 "nbformat_minor": 2
}
