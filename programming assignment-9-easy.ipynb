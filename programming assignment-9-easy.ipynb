{
 "cells": [
  {
   "cell_type": "markdown",
   "metadata": {},
   "source": [
    "1.\tWrite a Python program to check if the given number is a Disarium Number?"
   ]
  },
  {
   "cell_type": "code",
   "execution_count": 10,
   "metadata": {},
   "outputs": [
    {
     "name": "stdout",
     "output_type": "stream",
     "text": [
      "Enter a number to check whether is Disarium or not 88\n",
      "[8, 8]\n",
      "The entered number is not a Disarium Number\n"
     ]
    }
   ],
   "source": [
    "no=int(input(\"Enter a number to check whether is Disarium or not \"))\n",
    "str1=str(no)\n",
    "l1=[]\n",
    "for i in str1:\n",
    "    l1.append(int(i))\n",
    "print(l1)\n",
    "sum=0\n",
    "for j in range(len(l1)):\n",
    "    sum+=l1[j]**(j+1)\n",
    "if(sum==no):\n",
    "    print(\"The entered number is Disarium Number\")\n",
    "else:\n",
    "    print(\"The entered number is not a Disarium Number\")"
   ]
  },
  {
   "cell_type": "markdown",
   "metadata": {},
   "source": [
    "2.\tWrite a Python program to print all disarium numbers between 1 to 100?"
   ]
  },
  {
   "cell_type": "code",
   "execution_count": 21,
   "metadata": {},
   "outputs": [
    {
     "name": "stdout",
     "output_type": "stream",
     "text": [
      "Enter a number till which you want to find Disarium number 100\n",
      "1\n",
      "2\n",
      "3\n",
      "4\n",
      "5\n",
      "6\n",
      "7\n",
      "8\n",
      "9\n",
      "89\n"
     ]
    }
   ],
   "source": [
    "no1=int(input(\"Enter a number till which you want to find Disarium number \"))\n",
    "for no in range(1,no1+1):\n",
    "    #no=int(input(\"Enter a number to check whether is Disarium or not \"))\n",
    "    str1=str(no)\n",
    "    l1=[]\n",
    "    for i in str1:\n",
    "        l1.append(int(i))\n",
    "        #print(l1)\n",
    "    sum=0\n",
    "    for j in range(len(l1)):\n",
    "        sum+=l1[j]**(j+1)\n",
    "    if(sum==no):\n",
    "        print(no)"
   ]
  },
  {
   "cell_type": "markdown",
   "metadata": {},
   "source": [
    "3.\tWrite a Python program to check if the given number is Happy Number?"
   ]
  },
  {
   "cell_type": "code",
   "execution_count": 24,
   "metadata": {},
   "outputs": [
    {
     "name": "stdout",
     "output_type": "stream",
     "text": [
      "Enter a number to check whether its a happy number or not: 19\n",
      "[1, 9]\n",
      "68\n",
      "100\n",
      "1\n",
      "Its a happy number\n"
     ]
    }
   ],
   "source": [
    "no=int(input(\"Enter a number to check whether its a happy number or not: \"))\n",
    "str1=str(no)\n",
    "l1=[]\n",
    "l3=[]\n",
    "for i in str1:\n",
    "    l1.append(int(i))\n",
    "print(l1)\n",
    "sum1=0\n",
    "for i in l1:\n",
    "    sum1+=i**2\n",
    "#print(\"initially\"+str(sum1))\n",
    "if(sum1==1):\n",
    "    print(\"Its a happy number\")\n",
    "else:\n",
    "    while(sum1//10>0):\n",
    "        l2=[]\n",
    "        sum2=0\n",
    "        str2=str(sum1)\n",
    "        #print(\"while initialising\"+str(sum1))\n",
    "        for i in str2:\n",
    "            l2.append(int(i))\n",
    "        for i in l2:\n",
    "            sum2+=i**2\n",
    "        print(sum2)\n",
    "        if(sum2==1):\n",
    "            print(\"Its a happy number\")\n",
    "            break\n",
    "        else:\n",
    "            sum1=sum2"
   ]
  },
  {
   "cell_type": "markdown",
   "metadata": {},
   "source": [
    "4.\tWrite a Python program to print all happy numbers between 1 and 100?"
   ]
  },
  {
   "cell_type": "code",
   "execution_count": 2,
   "metadata": {},
   "outputs": [
    {
     "name": "stdout",
     "output_type": "stream",
     "text": [
      "Enter a number till which you want to find Happy number100\n",
      "Its a happy number 1\n",
      "Its a happy number 7\n",
      "Its a happy number 10\n",
      "Its a happy number 13\n",
      "Its a happy number 19\n",
      "Its a happy number 23\n",
      "Its a happy number 28\n",
      "Its a happy number 31\n",
      "Its a happy number 32\n",
      "Its a happy number 44\n",
      "Its a happy number 49\n",
      "Its a happy number 68\n",
      "Its a happy number 70\n",
      "Its a happy number 79\n",
      "Its a happy number 82\n",
      "Its a happy number 86\n",
      "Its a happy number 91\n",
      "Its a happy number 94\n",
      "Its a happy number 97\n",
      "Its a happy number 100\n"
     ]
    }
   ],
   "source": [
    "no2=int(input(\"Enter a number till which you want to find Happy number\"))\n",
    "for no in range(1,no2+1):\n",
    "    str1=str(no)\n",
    "    l1=[]\n",
    "    for i in str1:\n",
    "        l1.append(int(i))\n",
    "    #print(l1)\n",
    "    sum1=0\n",
    "    for i in l1:\n",
    "        sum1+=i**2\n",
    "    #print(\"initially\"+str(sum1))\n",
    "    if(sum1==1):\n",
    "        print(\"Its a happy number \"+str(no))\n",
    "    else:\n",
    "        while(sum1//10>0):\n",
    "            l2=[]\n",
    "            sum2=0\n",
    "            str2=str(sum1)\n",
    "            #print(\"while initialising\"+str(sum1))\n",
    "            for i in str2:\n",
    "                l2.append(int(i))\n",
    "            for i in l2:\n",
    "                sum2+=i**2\n",
    "            #print(sum2)\n",
    "            if(sum2==1):\n",
    "                print(\"Its a happy number \"+str(no))\n",
    "                break\n",
    "            else:\n",
    "                sum1=sum2"
   ]
  },
  {
   "cell_type": "markdown",
   "metadata": {},
   "source": [
    "5.\tWrite a Python program to determine whether the given number is a Harshad Number?"
   ]
  },
  {
   "cell_type": "code",
   "execution_count": 17,
   "metadata": {},
   "outputs": [
    {
     "name": "stdout",
     "output_type": "stream",
     "text": [
      "Enter a number to check whether its a Harshad number or not 156\n",
      "Its a Harshad number\n"
     ]
    }
   ],
   "source": [
    "no=int(input(\"Enter a number to check whether its a Harshad number or not \"))\n",
    "str1=str(no)\n",
    "l1=[int(i) for i in str1]\n",
    "sum1=sum(l1)\n",
    "if(no%sum1==0):\n",
    "    print(\"Its a Harshad number\")\n",
    "else:\n",
    "    print(\"Not a Harshad number\")"
   ]
  },
  {
   "cell_type": "markdown",
   "metadata": {},
   "source": [
    "6.\tWrite a Python program to print all pronic numbers between 1 and 100?"
   ]
  },
  {
   "cell_type": "code",
   "execution_count": 20,
   "metadata": {},
   "outputs": [
    {
     "name": "stdout",
     "output_type": "stream",
     "text": [
      "Enter a number till which you want to find Harshad number100\n",
      "Its a Harshad number 1\n",
      "Its a Harshad number 2\n",
      "Its a Harshad number 3\n",
      "Its a Harshad number 4\n",
      "Its a Harshad number 5\n",
      "Its a Harshad number 6\n",
      "Its a Harshad number 7\n",
      "Its a Harshad number 8\n",
      "Its a Harshad number 9\n",
      "Its a Harshad number 10\n",
      "Its a Harshad number 12\n",
      "Its a Harshad number 18\n",
      "Its a Harshad number 20\n",
      "Its a Harshad number 21\n",
      "Its a Harshad number 24\n",
      "Its a Harshad number 27\n",
      "Its a Harshad number 30\n",
      "Its a Harshad number 36\n",
      "Its a Harshad number 40\n",
      "Its a Harshad number 42\n",
      "Its a Harshad number 45\n",
      "Its a Harshad number 48\n",
      "Its a Harshad number 50\n",
      "Its a Harshad number 54\n",
      "Its a Harshad number 60\n",
      "Its a Harshad number 63\n",
      "Its a Harshad number 70\n",
      "Its a Harshad number 72\n",
      "Its a Harshad number 80\n",
      "Its a Harshad number 81\n",
      "Its a Harshad number 84\n",
      "Its a Harshad number 90\n",
      "Its a Harshad number 100\n"
     ]
    }
   ],
   "source": [
    "no3=int(input(\"Enter a number till which you want to find Harshad number\"))\n",
    "for no in range(1,no3+1):\n",
    "    str1=str(no)\n",
    "    l1=[int(i) for i in str1]\n",
    "    sum1=sum(l1)\n",
    "    if(no%sum1==0):\n",
    "        print(\"Its a Harshad number \"+str(no))"
   ]
  },
  {
   "cell_type": "code",
   "execution_count": null,
   "metadata": {},
   "outputs": [],
   "source": []
  }
 ],
 "metadata": {
  "kernelspec": {
   "display_name": "Python 3",
   "language": "python",
   "name": "python3"
  },
  "language_info": {
   "codemirror_mode": {
    "name": "ipython",
    "version": 3
   },
   "file_extension": ".py",
   "mimetype": "text/x-python",
   "name": "python",
   "nbconvert_exporter": "python",
   "pygments_lexer": "ipython3",
   "version": "3.7.1"
  }
 },
 "nbformat": 4,
 "nbformat_minor": 2
}
